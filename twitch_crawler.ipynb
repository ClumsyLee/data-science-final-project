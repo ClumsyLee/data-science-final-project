{
 "cells": [
  {
   "cell_type": "code",
   "execution_count": 2,
   "metadata": {
    "collapsed": true
   },
   "outputs": [],
   "source": [
    "import requests\n",
    "RETRY_TIME = 5"
   ]
  },
  {
   "cell_type": "code",
   "execution_count": 3,
   "metadata": {
    "collapsed": true
   },
   "outputs": [],
   "source": [
    "video_id = \"258493564\"\n",
    "client_id = \"jzkbprff40iqj646a697cyrvl0zt2m6\""
   ]
  },
  {
   "cell_type": "code",
   "execution_count": 37,
   "metadata": {},
   "outputs": [
    {
     "name": "stdout",
     "output_type": "stream",
     "text": [
      "110998\n"
     ]
    }
   ],
   "source": [
    "def twitch_crawl_chat(video_id):\n",
    "    url = \"https://api.twitch.tv/v5/videos/%s/comments\" % video_id\n",
    "    req = requests.get(url, headers={\"client-id\":client_id}, params={\"content_offset_seconds\":0})\n",
    "    comments = []\n",
    "    while True:\n",
    "        json_data = req.json()\n",
    "        comments += json_data['comments']\n",
    "        if not '_next' in json_data:\n",
    "            break\n",
    "        cursor_str = json_data['_next']\n",
    "        req = requests.get(url, headers={\"client-id\":client_id}, params={\"cursor\":cursor_str})\n",
    "    return comments\n",
    "\n",
    "chats = crawl_chat(video_id)\n",
    "print(len(chats))"
   ]
  },
  {
   "cell_type": "code",
   "execution_count": null,
   "metadata": {
    "collapsed": true
   },
   "outputs": [],
   "source": [
    "def twitch_get_user_profile(login_name_list):\n",
    "    cnt = 0\n",
    "    while True:\n",
    "        try:\n",
    "            cnt += 1\n",
    "            req = requests.get(\"https://api.twitch.tv/helix/users/\", headers={\"client-id\":client_id}, params={\"login\":login_name})\n",
    "            break\n",
    "        except:\n",
    "            if cnt > RETRY_TIME:\n",
    "                raise\n",
    "    return req.json()['data']\n",
    "\n",
    "user = get_user_profile(\"epicenter_en1\")\n",
    "print(user)"
   ]
  },
  {
   "cell_type": "code",
   "execution_count": 74,
   "metadata": {},
   "outputs": [
    {
     "name": "stdout",
     "output_type": "stream",
     "text": [
      "999\n"
     ]
    }
   ],
   "source": [
    "def twitch_get_user_clips(user_id):\n",
    "    params = {\"broadcaster_id\":user_id, \"first\":100}\n",
    "    clips = []\n",
    "    while True:\n",
    "        cnt = 0\n",
    "        while True:\n",
    "            try:\n",
    "                cnt += 1\n",
    "                req = requests.get(\"https://api.twitch.tv/helix/clips/\", headers={\"client-id\":client_id}, params = params)\n",
    "                break\n",
    "            except:\n",
    "                if cnt > RETRY_TIME:\n",
    "                    raise\n",
    "        json_data = req.json()\n",
    "        clips += json_data['data']\n",
    "        if 'cursor' in json_data[\"pagination\"]:\n",
    "            cursor = json_data[\"pagination\"]['cursor']\n",
    "            params['after'] = cursor\n",
    "        else:\n",
    "            break\n",
    "    return clips\n",
    "\n",
    "clips = get_user_clips(user['id'])\n",
    "print(len(clips))"
   ]
  },
  {
   "cell_type": "code",
   "execution_count": 78,
   "metadata": {},
   "outputs": [
    {
     "data": {
      "text/plain": [
       "{'broadcaster_id': '118170488',\n",
       " 'created_at': '2017-10-24T19:06:51Z',\n",
       " 'creator_id': '122503780',\n",
       " 'embed_url': 'https://clips.twitch.tv/embed?clip=EasyDeliciousMosquitoHotPokket',\n",
       " 'game_id': '32399',\n",
       " 'id': 'EasyDeliciousMosquitoHotPokket',\n",
       " 'language': 'en',\n",
       " 'thumbnail_url': 'https://clips-media-assets.twitch.tv/792928192-offset-2702-preview-480x272.jpg',\n",
       " 'title': 'Sadokist casts a 2v0',\n",
       " 'url': 'https://clips.twitch.tv/EasyDeliciousMosquitoHotPokket',\n",
       " 'video_id': '',\n",
       " 'view_count': 34060}"
      ]
     },
     "execution_count": 78,
     "metadata": {},
     "output_type": "execute_result"
    }
   ],
   "source": [
    "def twitch_get_game_info(game_id_list):\n",
    "    cnt = 0\n",
    "    while True:\n",
    "        try:\n",
    "            cnt += 1\n",
    "            req = requests.get(\"https://api.twitch.tv/helix/games/\", headers={\"client-id\":client_id}, params={\"id\":game_id_list})\n",
    "            break\n",
    "        except:\n",
    "            if cnt > RETRY_TIME:\n",
    "                raise\n",
    "    return req.json()['data']\n",
    "\n",
    "twitch_get_game_info([\"32399\", \"29595\"])"
   ]
  },
  {
   "cell_type": "code",
   "execution_count": 80,
   "metadata": {},
   "outputs": [
    {
     "data": {
      "text/plain": [
       "{'broadcaster_id': '118170488',\n",
       " 'created_at': '2017-05-11T00:11:15Z',\n",
       " 'creator_id': '37713472',\n",
       " 'embed_url': 'https://clips.twitch.tv/embed?clip=BusyCrowdedMonitorGivePLZ',\n",
       " 'game_id': '29595',\n",
       " 'id': 'BusyCrowdedMonitorGivePLZ',\n",
       " 'language': 'en',\n",
       " 'thumbnail_url': 'https://clips-media-assets.twitch.tv/25250467104-offset-4830.664000000003-27.583333333333343-preview-480x272.jpg',\n",
       " 'title': 'Ember Gets Burned',\n",
       " 'url': 'https://clips.twitch.tv/BusyCrowdedMonitorGivePLZ',\n",
       " 'video_id': '',\n",
       " 'view_count': 488}"
      ]
     },
     "execution_count": 80,
     "metadata": {},
     "output_type": "execute_result"
    }
   ],
   "source": [
    "clips[-1]"
   ]
  },
  {
   "cell_type": "code",
   "execution_count": 81,
   "metadata": {
    "collapsed": true,
    "scrolled": true
   },
   "outputs": [],
   "source": [
    "req = requests.get(\"https://api.twitch.tv/helix/games/\", headers={\"client-id\":client_id}, params={\"id\":[32399, 29595]})"
   ]
  },
  {
   "cell_type": "code",
   "execution_count": 82,
   "metadata": {},
   "outputs": [
    {
     "data": {
      "text/plain": [
       "{'data': [{'box_art_url': 'https://static-cdn.jtvnw.net/ttv-boxart/Dota%202-{width}x{height}.jpg',\n",
       "   'id': '29595',\n",
       "   'name': 'Dota 2'},\n",
       "  {'box_art_url': 'https://static-cdn.jtvnw.net/ttv-boxart/Counter-Strike:%20Global%20Offensive-{width}x{height}.jpg',\n",
       "   'id': '32399',\n",
       "   'name': 'Counter-Strike: Global Offensive'}]}"
      ]
     },
     "execution_count": 82,
     "metadata": {},
     "output_type": "execute_result"
    }
   ],
   "source": [
    "req.json()"
   ]
  },
  {
   "cell_type": "code",
   "execution_count": 56,
   "metadata": {},
   "outputs": [
    {
     "data": {
      "text/plain": [
       "20"
      ]
     },
     "execution_count": 56,
     "metadata": {},
     "output_type": "execute_result"
    }
   ],
   "source": [
    "len(json_data['data'])"
   ]
  }
 ],
 "metadata": {
  "kernelspec": {
   "display_name": "Python 3",
   "language": "python",
   "name": "python3"
  },
  "language_info": {
   "codemirror_mode": {
    "name": "ipython",
    "version": 3
   },
   "file_extension": ".py",
   "mimetype": "text/x-python",
   "name": "python",
   "nbconvert_exporter": "python",
   "pygments_lexer": "ipython3",
   "version": "3.6.3"
  }
 },
 "nbformat": 4,
 "nbformat_minor": 2
}
