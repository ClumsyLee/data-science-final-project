{
 "cells": [
  {
   "cell_type": "code",
   "execution_count": 160,
   "metadata": {
    "collapsed": true
   },
   "outputs": [],
   "source": [
    "import requests\n",
    "import json\n",
    "import time\n",
    "RETRY_TIME = 5"
   ]
  },
  {
   "cell_type": "code",
   "execution_count": 12,
   "metadata": {
    "collapsed": true
   },
   "outputs": [],
   "source": [
    "video_id = \"258310143\"\n",
    "client_id = \"jzkbprff40iqj646a697cyrvl0zt2m6\""
   ]
  },
  {
   "cell_type": "code",
   "execution_count": 34,
   "metadata": {
    "collapsed": true
   },
   "outputs": [],
   "source": [
    "def twitch_get_video_info(video_id):\n",
    "    cnt = 0\n",
    "    while True:\n",
    "        try:\n",
    "            cnt += 1\n",
    "            req = requests.get(\"https://api.twitch.tv/helix/videos\", headers={\"client-id\":client_id}, params={\"id\":video_id} )\n",
    "            break\n",
    "        except:\n",
    "            if cnt > RETRY_TIME:\n",
    "                raise\n",
    "    return req.json()['data'][0]\n",
    "\n",
    "video_info = twitch_get_video_info(video_id)"
   ]
  },
  {
   "cell_type": "code",
   "execution_count": 37,
   "metadata": {
    "collapsed": true
   },
   "outputs": [],
   "source": [
    "def duration_str_to_seconds(d_str):\n",
    "    ans = 0\n",
    "    tmp = d_str.split('h')\n",
    "    if len(tmp) > 1:\n",
    "        ans += int(tmp[0]) * 3600\n",
    "        d_str = tmp[1]\n",
    "    \n",
    "    tmp = d_str.split('m')\n",
    "    if len(tmp) > 1:\n",
    "        ans += int(tmp[0]) * 60\n",
    "        d_str = tmp[1]\n",
    "    \n",
    "    tmp = d_str.split('s')\n",
    "    if len(tmp) > 1:\n",
    "        ans += int(tmp[0])\n",
    "    \n",
    "    return ans\n",
    "\n",
    "video_length = duration_str_to_seconds(video_info['duration'])"
   ]
  },
  {
   "cell_type": "code",
   "execution_count": 236,
   "metadata": {},
   "outputs": [],
   "source": [
    "from multiprocessing import Pool\n",
    "import math\n",
    "PROCESS_NUM = 1\n",
    "\n",
    "def twitch_crawl_chat_in_interval(args):\n",
    "    video_id, start, end = args\n",
    "    url = \"https://api.twitch.tv/v5/videos/%s/comments\" % video_id\n",
    "    cnt = 0\n",
    "    while True:\n",
    "        try:\n",
    "            cnt +=1\n",
    "            req = requests.get(url, headers={\"client-id\":client_id}, params={\"content_offset_seconds\":start})\n",
    "            break\n",
    "        except:\n",
    "            if cnt > RETRY_TIME:\n",
    "                raise\n",
    "    comments = []\n",
    "    while True:\n",
    "        json_data = req.json()\n",
    "        if len(json_data['comments']) == 0:\n",
    "            break\n",
    "        comments += json_data['comments']\n",
    "        if comments[-1]['content_offset_seconds'] >= end or not '_next' in json_data:\n",
    "            break\n",
    "        cursor_str = json_data['_next']\n",
    "        cnt = 0\n",
    "        while True:\n",
    "            try:\n",
    "                cnt += 1\n",
    "                req = requests.get(url, headers={\"client-id\":client_id}, params={\"cursor\":cursor_str})\n",
    "                break\n",
    "            except:\n",
    "                if cnt > RETRY_TIME:\n",
    "                    raise\n",
    "    if len(comments) > 0:\n",
    "        n = 0\n",
    "        while n < len(comments) and comments[-n-1]['content_offset_seconds'] >= end:\n",
    "            n += 1\n",
    "        if n > 0:\n",
    "            comments = comments[:-n]\n",
    "        n = 0\n",
    "        while n < len(comments) and comments[n]['content_offset_seconds'] < start:\n",
    "            n += 1\n",
    "        comments = comments[n:]\n",
    "    return comments\n",
    "\n",
    "def twitch_crawl_chat(video_id):\n",
    "    video_info = twitch_get_video_info(video_id)\n",
    "    video_length = duration_str_to_seconds(video_info['duration'])\n",
    "    step = math.ceil(video_length / PROCESS_NUM)\n",
    "    pool = Pool(PROCESS_NUM)\n",
    "    chats = pool.map(twitch_crawl_chat_in_interval, [(video_id, s, s+step) for s in range(0, video_length, step)])\n",
    "    pool.close()\n",
    "    pool.join()\n",
    "    chats = sum(chats, [])\n",
    "    return chats\n",
    "    \n",
    "    \n",
    "\n",
    "# chats = crawl_chat(video_id)\n",
    "# print(len(chats))"
   ]
  },
  {
   "cell_type": "code",
   "execution_count": null,
   "metadata": {},
   "outputs": [],
   "source": [
    "start = time.time()\n",
    "chats = twitch_crawl_chat(\"256588269\")\n",
    "end = time.time()\n",
    "print(\"Finish in\", end-start)\n",
    "with open(\"256588269_chat.txt\", \"w\") as fout:\n",
    "    json.dump(chats, fout)\n",
    "print(len(chats))"
   ]
  },
  {
   "cell_type": "code",
   "execution_count": 9,
   "metadata": {
    "collapsed": true
   },
   "outputs": [],
   "source": [
    "def twitch_get_user_profile(login_name_list):\n",
    "    cnt = 0\n",
    "    while True:\n",
    "        try:\n",
    "            cnt += 1\n",
    "            req = requests.get(\"https://api.twitch.tv/helix/users/\", headers={\"client-id\":client_id}, params={\"login\":login_name})\n",
    "            break\n",
    "        except:\n",
    "            if cnt > RETRY_TIME:\n",
    "                raise\n",
    "    return req.json()['data']\n",
    "\n",
    "#user = get_user_profile(\"epicenter_en1\")\n",
    "#print(user)"
   ]
  },
  {
   "cell_type": "code",
   "execution_count": 10,
   "metadata": {},
   "outputs": [],
   "source": [
    "def twitch_get_user_clips(user_id):\n",
    "    params = {\"broadcaster_id\":user_id, \"first\":100}\n",
    "    clips = []\n",
    "    while True:\n",
    "        cnt = 0\n",
    "        while True:\n",
    "            try:\n",
    "                cnt += 1\n",
    "                req = requests.get(\"https://api.twitch.tv/helix/clips/\", headers={\"client-id\":client_id}, params = params)\n",
    "                break\n",
    "            except:\n",
    "                if cnt > RETRY_TIME:\n",
    "                    raise\n",
    "        json_data = req.json()\n",
    "        clips += json_data['data']\n",
    "        if 'cursor' in json_data[\"pagination\"]:\n",
    "            cursor = json_data[\"pagination\"]['cursor']\n",
    "            params['after'] = cursor\n",
    "        else:\n",
    "            break\n",
    "    return clips\n",
    "\n",
    "#clips = get_user_clips(user['id'])\n",
    "#print(len(clips))"
   ]
  },
  {
   "cell_type": "code",
   "execution_count": 11,
   "metadata": {},
   "outputs": [],
   "source": [
    "def twitch_get_game_info(game_id_list):\n",
    "    cnt = 0\n",
    "    while True:\n",
    "        try:\n",
    "            cnt += 1\n",
    "            req = requests.get(\"https://api.twitch.tv/helix/games/\", headers={\"client-id\":client_id}, params={\"id\":game_id_list})\n",
    "            break\n",
    "        except:\n",
    "            if cnt > RETRY_TIME:\n",
    "                raise\n",
    "    return req.json()['data']\n",
    "\n",
    "#twitch_get_game_info([\"32399\", \"29595\"])"
   ]
  },
  {
   "cell_type": "code",
   "execution_count": 13,
   "metadata": {
    "scrolled": true
   },
   "outputs": [
    {
     "name": "stdout",
     "output_type": "stream",
     "text": [
      "Got 97 clips from 5 videos.\n",
      "Got 195 clips from 7 videos.\n",
      "Got 288 clips from 9 videos.\n"
     ]
    }
   ],
   "source": [
    "import clip\n",
    "clips = clip.Clip.get_top(\"epicenter_en1\")"
   ]
  },
  {
   "cell_type": "code",
   "execution_count": 26,
   "metadata": {},
   "outputs": [],
   "source": [
    "related_clips = []\n",
    "for i in range(len(clips)):\n",
    "    if clips[i].video_id == video_id:\n",
    "        related_clips.append(clips[i])\n",
    "related_clips = sorted(related_clips, key = lambda x: x.video_offset)"
   ]
  },
  {
   "cell_type": "code",
   "execution_count": 30,
   "metadata": {},
   "outputs": [],
   "source": [
    "import matplotlib\n",
    "%matplotlib inline\n",
    "import matplotlib.pyplot as plt "
   ]
  },
  {
   "cell_type": "code",
   "execution_count": 83,
   "metadata": {
    "scrolled": false
   },
   "outputs": [
    {
     "data": {
      "image/png": "[encoded data removed]",
      "text/plain": [
       "<Figure size 432x288 with 1 Axes>"
      ]
     },
     "metadata": {},
     "output_type": "display_data"
    }
   ],
   "source": [
    "def plot_chats_density(chats, clips, video_length, sample_window_size = 10):\n",
    "    pos = 0\n",
    "    n = len(chats)\n",
    "    plot_x = range(0, video_length, sample_window_size)\n",
    "    plot_y = [0 for i in range(len(plot_x))]\n",
    "    for offset in range(0, video_length, sample_window_size):\n",
    "        cnt = 0\n",
    "        while pos < n and chats[pos]['content_offset_seconds'] < offset + sample_window_size:\n",
    "            pos += 1\n",
    "            cnt += 1\n",
    "        plot_y[int(offset / sample_window_size)] = cnt\n",
    "    for clip in clips:\n",
    "        plt.axvspan(clip.video_offset, clip.video_offset + clip.duration, facecolor='r')\n",
    "    plt.plot(plot_x, plot_y)\n",
    "    return plot_y\n",
    "\n",
    "sample_window_size = 5\n",
    "chats_density = plot_chats_density(chats, related_clips, video_length, sample_window_size)\n",
    "plt.show()"
   ]
  },
  {
   "cell_type": "code",
   "execution_count": 84,
   "metadata": {
    "scrolled": true
   },
   "outputs": [
    {
     "name": "stdout",
     "output_type": "stream",
     "text": [
      "27.586690540137273\n",
      "43.42440801457195\n"
     ]
    }
   ],
   "source": [
    "import numpy as np\n",
    "\n",
    "chats_density = np.asarray(chats_density)\n",
    "chats_mean_density = np.mean(chats_density)\n",
    "print(chats_mean_density)\n",
    "clip_window = []\n",
    "for clip in related_clips:\n",
    "    for offset in range(clip.video_offset, int(clip.video_offset + clip.duration), sample_window_size):\n",
    "        clip_window.append(offset // sample_window_size)\n",
    "clip_window = np.asarray(clip_window)\n",
    "clip_mean_density = np.mean(chats_density[clip_window])\n",
    "print(clip_mean_density)"
   ]
  },
  {
   "cell_type": "code",
   "execution_count": 97,
   "metadata": {
    "collapsed": true
   },
   "outputs": [],
   "source": [
    "def highlight_by_threshold(chats_density, threshold):\n",
    "    highlight_clips = []\n",
    "    start = 0\n",
    "    end = -1\n",
    "    for i in range(len(chats_density)):\n",
    "        if chats_density[i] > threshold:\n",
    "            if i - end > 2:\n",
    "                if end > start:\n",
    "                    highlight_clips.append((start, end + 1))\n",
    "                start = end = i\n",
    "            else:\n",
    "                end = i\n",
    "    if end > start:\n",
    "        highlight_clips.append((start, end + 1))\n",
    "    return highlight_clips\n",
    "\n",
    "filter_seg = highlight_by_threshold(chats_density, clip_mean_density)"
   ]
  },
  {
   "cell_type": "code",
   "execution_count": 113,
   "metadata": {},
   "outputs": [
    {
     "name": "stdout",
     "output_type": "stream",
     "text": [
      "46.23529411764706\n",
      "41.62\n",
      "43.9\n",
      "44.78512396694215\n",
      "43.42440801457195\n"
     ]
    }
   ],
   "source": [
    "related_clips_by_views = sorted(related_clips, key=lambda x:-x.views)\n",
    "related_clips_by_views_corresponding_window = []\n",
    "for clip in related_clips_by_views:\n",
    "    tmp = []\n",
    "    for offset in range(clip.video_offset, int(clip.video_offset + clip.duration), sample_window_size):\n",
    "        tmp.append(offset // sample_window_size)\n",
    "    related_clips_by_views_corresponding_window.append(tmp)\n",
    "    \n",
    "for top in [3, 10, 20, 50, len(related_clips_by_views_corresponding_window)]:\n",
    "    print(np.mean(chats_density[sum(related_clips_by_views_corresponding_window[:top], [])]))"
   ]
  },
  {
   "cell_type": "code",
   "execution_count": 129,
   "metadata": {},
   "outputs": [
    {
     "name": "stdout",
     "output_type": "stream",
     "text": [
      "69 False\n",
      "69 False\n",
      "69 False\n",
      "69 False\n",
      "70 False\n",
      "70 False\n",
      "70 False\n",
      "72 False\n",
      "72 False\n",
      "73 True\n"
     ]
    }
   ],
   "source": [
    "for i in np.argsort(chats_density)[-10:]:\n",
    "    print(chats_density[i], i in sum(related_clips_by_views_corresponding_window,[]))"
   ]
  },
  {
   "cell_type": "code",
   "execution_count": 98,
   "metadata": {},
   "outputs": [
    {
     "data": {
      "text/html": [
       "<iframe src=\"https://player.twitch.tv/?autoplay=false&t=1625s&video=258310143\" frameborder=\"0\" allowfullscreen=\"true\" scrolling=\"no\" height=\"378\" width=\"620\"></iframe>"
      ],
      "text/plain": [
       "<IPython.core.display.HTML object>"
      ]
     },
     "execution_count": 98,
     "metadata": {},
     "output_type": "execute_result"
    }
   ],
   "source": [
    "from IPython.display import HTML\n",
    "def twitch_play_video(video_id, offset):\n",
    "    html_str = '<iframe src=\"https://player.twitch.tv/?autoplay=false&t=%ds&video=%s\" frameborder=\"0\" allowfullscreen=\"true\" scrolling=\"no\" height=\"378\" width=\"620\"></iframe>' % (offset, video_id)\n",
    "    return HTML(data=html_str)\n",
    "\n",
    "twitch_play_video(video_id, related_clips[0].video_offset)"
   ]
  },
  {
   "cell_type": "code",
   "execution_count": 132,
   "metadata": {},
   "outputs": [
    {
     "data": {
      "text/plain": [
       "'258310143'"
      ]
     },
     "execution_count": 132,
     "metadata": {},
     "output_type": "execute_result"
    }
   ],
   "source": [
    "video_id"
   ]
  },
  {
   "cell_type": "code",
   "execution_count": 138,
   "metadata": {
    "scrolled": true
   },
   "outputs": [
    {
     "data": {
      "text/plain": [
       "{'_id': 'ba243db6-65bf-4f6f-a590-1561b0684376',\n",
       " 'channel_id': '118170488',\n",
       " 'commenter': {'_id': '25634423',\n",
       "  'bio': None,\n",
       "  'created_at': '2011-10-22T21:18:21.990406Z',\n",
       "  'display_name': 'sprakcity',\n",
       "  'logo': 'https://static-cdn.jtvnw.net/user-default-pictures/bb97f7e6-f11a-4194-9708-52bf5a5125e8-profile_image-300x300.jpg',\n",
       "  'name': 'sprakcity',\n",
       "  'type': 'user',\n",
       "  'updated_at': '2018-05-06T16:33:45.949331Z'},\n",
       " 'content_id': '258310143',\n",
       " 'content_offset_seconds': 81.492,\n",
       " 'content_type': 'video',\n",
       " 'created_at': '2018-05-06T09:27:39.292Z',\n",
       " 'message': {'body': 'admiralC TI WINNER SUBS admiralC',\n",
       "  'emoticons': [{'_id': '617641', 'begin': 0, 'end': 7},\n",
       "   {'_id': '617641', 'begin': 24, 'end': 31}],\n",
       "  'fragments': [{'emoticon': {'emoticon_id': '617641', 'emoticon_set_id': ''},\n",
       "    'text': 'admiralC'},\n",
       "   {'text': ' TI WINNER SUBS '},\n",
       "   {'emoticon': {'emoticon_id': '617641', 'emoticon_set_id': ''},\n",
       "    'text': 'admiralC'}],\n",
       "  'is_action': False,\n",
       "  'user_color': '#1E90FF'},\n",
       " 'more_replies': False,\n",
       " 'source': 'chat',\n",
       " 'state': 'published',\n",
       " 'updated_at': '2018-05-06T09:27:39.292Z'}"
      ]
     },
     "execution_count": 138,
     "metadata": {},
     "output_type": "execute_result"
    }
   ],
   "source": [
    "chats[73]"
   ]
  },
  {
   "cell_type": "code",
   "execution_count": 140,
   "metadata": {},
   "outputs": [
    {
     "data": {
      "text/plain": [
       "[]"
      ]
     },
     "execution_count": 140,
     "metadata": {},
     "output_type": "execute_result"
    }
   ],
   "source": [
    "[1,2,3][:-0]"
   ]
  }
 ],
 "metadata": {
  "kernelspec": {
   "display_name": "Python 3",
   "language": "python",
   "name": "python3"
  },
  "language_info": {
   "codemirror_mode": {
    "name": "ipython",
    "version": 3
   },
   "file_extension": ".py",
   "mimetype": "text/x-python",
   "name": "python",
   "nbconvert_exporter": "python",
   "pygments_lexer": "ipython3",
   "version": "3.6.3"
  }
 },
 "nbformat": 4,
 "nbformat_minor": 2
}
